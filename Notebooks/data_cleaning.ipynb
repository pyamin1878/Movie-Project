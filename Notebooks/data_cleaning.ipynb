{
 "cells": [
  {
   "cell_type": "markdown",
   "metadata": {},
   "source": [
    "## Data Understanding"
   ]
  },
  {
   "cell_type": "code",
   "execution_count": null,
   "metadata": {},
   "outputs": [],
   "source": [
    "import sqlite3\n",
    "import pandas as pd\n",
    "import numpy as np\n",
    "import matplotlib.pyplot as plt"
   ]
  },
  {
   "cell_type": "markdown",
   "metadata": {},
   "source": [
    "### Data Sources\n"
   ]
  },
  {
   "cell_type": "markdown",
   "metadata": {},
   "source": [
    "[**IMDb**](https://www.imdb.com) - 'Data/im.db' - (8 tables)\n",
    "\n",
    "SQL database containing movie info and cast & crew details"
   ]
  },
  {
   "cell_type": "code",
   "execution_count": null,
   "metadata": {},
   "outputs": [],
   "source": [
    "# IMDb\n",
    "conn = sqlite3.connect('../Data/im.db')\n",
    "pd.read_sql(\"\"\"                        \n",
    "SELECT * FROM sqlite_master\n",
    "WHERE type='table' \n",
    "\"\"\", conn)"
   ]
  },
  {
   "cell_type": "markdown",
   "metadata": {},
   "source": [
    "[**The Numbers**](https://www.the-numbers.com) - 'Data/tn.movie_budgets.csv.gz' - (5782 rows x 6 cols)\n",
    "\n",
    "production budget, domestic/worldwide gross revenues"
   ]
  },
  {
   "cell_type": "code",
   "execution_count": null,
   "metadata": {},
   "outputs": [],
   "source": [
    "# The Numbers\n",
    "pd.read_csv('../Data/tn.movie_budgets.csv.gz').info()"
   ]
  },
  {
   "cell_type": "markdown",
   "metadata": {},
   "source": [
    "[**Box Office Mojo**](https://www.boxofficemojo.com) - 'Data/bom.movie_gross.csv.gz' - (3387 rows x 5 columns)\n",
    "\n",
    "additional info on studio, gross revenue\n"
   ]
  },
  {
   "cell_type": "code",
   "execution_count": null,
   "metadata": {},
   "outputs": [],
   "source": [
    "# Box Office Mojo\n",
    "pd.read_csv('../Data/bom.movie_gross.csv.gz').info()\n"
   ]
  },
  {
   "cell_type": "markdown",
   "metadata": {},
   "source": [
    "[**The Movie DB**](https://www.themoviedb.org) - 'Data/tmdb.movies.csv.gz' - (26517 rows x 10 cols)\n",
    "\n",
    "additional info on genre, language, votes/popularity\n"
   ]
  },
  {
   "cell_type": "code",
   "execution_count": null,
   "metadata": {},
   "outputs": [],
   "source": [
    "# The Movie DB\n",
    "pd.read_csv('../Data/tmdb.movies.csv.gz').info()"
   ]
  },
  {
   "cell_type": "markdown",
   "metadata": {},
   "source": [
    "[**Rotten Tomatoes**](https://www.rottentomatoes.com) - 'Data/rt.movie_info.tsv.gz' - (1560 rows x 12 cols)\n",
    "\n",
    "synopsis, rating, runtime, etc."
   ]
  },
  {
   "cell_type": "code",
   "execution_count": null,
   "metadata": {},
   "outputs": [],
   "source": [
    "# Rotten Tomatoes - movie info\n",
    "pd.read_csv('../Data/rt.movie_info.tsv.gz', sep='\\t' ).info()"
   ]
  },
  {
   "cell_type": "markdown",
   "metadata": {},
   "source": [
    "\n",
    "[**Rotten Tomatoes**](https://www.rottentomatoes.com) - 'Data/rt.reviews.tsv.gz' - (54432 rows x 8 cols)\n",
    "\n",
    "additional info on reviews, ratings\n",
    "\n"
   ]
  },
  {
   "cell_type": "code",
   "execution_count": null,
   "metadata": {},
   "outputs": [],
   "source": [
    "# Rotten Tomatoes - reviews\n",
    "pd.read_csv('../Data/rt.reviews.tsv.gz', sep='\\t', encoding='latin-1').info()"
   ]
  },
  {
   "cell_type": "markdown",
   "metadata": {},
   "source": [
    "### Data Cleaning"
   ]
  },
  {
   "cell_type": "code",
   "execution_count": null,
   "metadata": {},
   "outputs": [],
   "source": [
    "# IMDb - movie_basics\n",
    "# 146,144 entries\n",
    "\n",
    "pd.read_sql(\"SELECT * FROM movie_basics\", conn).info()"
   ]
  },
  {
   "cell_type": "code",
   "execution_count": null,
   "metadata": {},
   "outputs": [],
   "source": [
    "# IMDb - movie_ratings\n",
    "# 73,856 entries\n",
    "\n",
    "pd.read_sql(\"SELECT * FROM movie_ratings\", conn).info()"
   ]
  },
  {
   "cell_type": "code",
   "execution_count": null,
   "metadata": {},
   "outputs": [],
   "source": [
    "# IMDb - create dataframe combining tables 'movie_basics' and 'movie_ratings'\n",
    "# https://help.imdb.com/article/imdb/track-movies-tv/ratings-faq/G67Y87TFYYP6TWAV?ref_=helpms_helpart_inline#\n",
    "\n",
    "imdb_df = pd.read_sql(\"\"\"\n",
    "SELECT primary_title, original_title, runtime_minutes, genres, start_year, averagerating, numvotes\n",
    "FROM movie_basics \n",
    "JOIN movie_ratings\n",
    "USING (movie_id)\n",
    "\"\"\", conn)"
   ]
  },
  {
   "cell_type": "code",
   "execution_count": null,
   "metadata": {},
   "outputs": [],
   "source": [
    "# # IMDb !! v2 !! - create dataframe of 'movie_basics' \n",
    "\n",
    "# imdb_df = pd.read_sql(\"\"\"\n",
    "# SELECT primary_title, original_title, runtime_minutes, genres, start_year\n",
    "# FROM movie_basics \n",
    "# \"\"\", conn)"
   ]
  },
  {
   "cell_type": "code",
   "execution_count": null,
   "metadata": {},
   "outputs": [],
   "source": [
    "# The Numbers - https://www.the-numbers.com/glossary\n",
    "# 5,782 entries\n",
    "\n",
    "pd.read_csv('../Data/tn.movie_budgets.csv.gz').info()"
   ]
  },
  {
   "cell_type": "code",
   "execution_count": null,
   "metadata": {},
   "outputs": [],
   "source": [
    "# The Numbers - create dataframe\n",
    "roi_df = pd.read_csv('../Data/tn.movie_budgets.csv.gz')\n",
    "\n",
    "# Convert 'release_date' to datetime and create 'year' column\n",
    "roi_df['release_date'] = pd.to_datetime(roi_df['release_date'], errors='coerce')\n",
    "roi_df['year'] = roi_df['release_date'].dt.year\n",
    "\n",
    "# Define function to convert monetary columns to numeric\n",
    "def convert_monetary_columns(df, columns):\n",
    "    for column in columns:\n",
    "        df[column] = pd.to_numeric(df[column].str.replace('[\\$,]', '', regex=True), errors='coerce')\n",
    "    return df\n",
    "# Define list of columns and run function on database\n",
    "monetary_columns = ['production_budget', 'domestic_gross', 'worldwide_gross']\n",
    "roi_df = convert_monetary_columns(roi_df, monetary_columns)\n",
    "\n",
    "# Create column 'ROI' \n",
    "roi_df['ROI'] = (roi_df['worldwide_gross'] - roi_df['production_budget']) / roi_df['production_budget'] * 100\n"
   ]
  },
  {
   "cell_type": "code",
   "execution_count": null,
   "metadata": {},
   "outputs": [],
   "source": [
    "# Merge imdb_df and roi_df\n",
    "movie_df = pd.merge(imdb_df, roi_df, left_on=['primary_title', 'start_year'], right_on=['movie', 'year'], how='inner')\n",
    "\n",
    "# Drop extraneous columns and rows with null values\n",
    "movie_df = movie_df.drop(['original_title', 'start_year', 'id', 'release_date', 'movie', 'domestic_gross'], axis=1)\n",
    "movie_df = movie_df.dropna()\n",
    "\n",
    "# Round up and convert 'runtime_minutes' to integer\n",
    "movie_df['runtime_minutes'] = movie_df['runtime_minutes'].round().astype(int)\n",
    "\n",
    "# Round up and convert 'ROI' to integer and then sort by descending\n",
    "movie_df['ROI'] = movie_df['ROI'].round().astype(int)\n",
    "movie_df = movie_df.sort_values(by='ROI', ascending=False, ignore_index=True)"
   ]
  },
  {
   "cell_type": "code",
   "execution_count": null,
   "metadata": {},
   "outputs": [],
   "source": [
    "# Export clean data to CSV\n",
    "movie_df.to_csv('../Data/movie_clean.csv', index=False)\n",
    "\n",
    "movie_df = pd.read_csv('../Data/movie_clean.csv')\n",
    "movie_df"
   ]
  },
  {
   "cell_type": "code",
   "execution_count": null,
   "metadata": {},
   "outputs": [],
   "source": [
    "# Split 'genres' into list of values and explode into rows for each genre\n",
    "movie_df['genres'] = movie_df['genres'].str.split(',')\n",
    "genres_df = movie_df.explode('genres')"
   ]
  },
  {
   "cell_type": "code",
   "execution_count": null,
   "metadata": {},
   "outputs": [],
   "source": [
    "# Export genres data to CSV\n",
    "genres_df.to_csv('../Data/genres.csv', index=False)\n",
    "\n",
    "genres_df = pd.read_csv('../Data/genres.csv')\n",
    "genres_df"
   ]
  }
 ],
 "metadata": {
  "kernelspec": {
   "display_name": "Python 3",
   "language": "python",
   "name": "python3"
  },
  "language_info": {
   "codemirror_mode": {
    "name": "ipython",
    "version": 3
   },
   "file_extension": ".py",
   "mimetype": "text/x-python",
   "name": "python",
   "nbconvert_exporter": "python",
   "pygments_lexer": "ipython3",
   "version": "3.8.5"
  }
 },
 "nbformat": 4,
 "nbformat_minor": 4
}
