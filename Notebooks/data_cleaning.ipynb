{
 "cells": [
  {
   "cell_type": "markdown",
   "metadata": {},
   "source": [
    "# Initial EDA"
   ]
  },
  {
   "cell_type": "markdown",
   "metadata": {},
   "source": [
    "## Business Understanding"
   ]
  },
  {
   "cell_type": "markdown",
   "metadata": {},
   "source": [
    "What defines success for a film?\n",
    "- ROI - box office success translates to high ticket sales against low operating costs; look at high grossing movies with low production budgets\n",
    "- Ratings - popularity can be gleaned from sampling audience reviews; what is the correlation between popularity and profitability\n",
    "\n",
    "What are commonalities among the most successful films?\n",
    "- Genre - are there specific combinations of genres that perform better than the rest\n",
    "- Duration - what is the average film length and what are the limits on runtime that would maximize success"
   ]
  },
  {
   "cell_type": "markdown",
   "metadata": {},
   "source": [
    "## Data Understanding"
   ]
  },
  {
   "cell_type": "code",
   "execution_count": null,
   "metadata": {},
   "outputs": [],
   "source": [
    "import sqlite3\n",
    "import pandas as pd\n",
    "import numpy as np\n",
    "import matplotlib.pyplot as plt"
   ]
  },
  {
   "cell_type": "markdown",
   "metadata": {},
   "source": [
    "### Data Sources\n"
   ]
  },
  {
   "cell_type": "markdown",
   "metadata": {},
   "source": [
    "[**imDB**](https://www.imdb.com)\n",
    "\n",
    "'Data/im.db' - (8 tables)\n",
    "- SQL database containing movie info and cast & crew details"
   ]
  },
  {
   "cell_type": "code",
   "execution_count": null,
   "metadata": {},
   "outputs": [],
   "source": [
    "# imDB\n",
    "conn = sqlite3.connect('../Data/im.db')\n",
    "pd.read_sql(\"\"\"                        \n",
    "SELECT * FROM sqlite_master\n",
    "WHERE type='table' \n",
    "\"\"\", conn)"
   ]
  },
  {
   "cell_type": "markdown",
   "metadata": {},
   "source": [
    "[**The Numbers**](https://www.the-numbers.com)\n",
    "\n",
    "'Data/tn.movie_budgets.csv.gz' - (5782 rows x 6 cols)\n",
    "- production budget, domestic/worldwide gross revenues"
   ]
  },
  {
   "cell_type": "code",
   "execution_count": null,
   "metadata": {},
   "outputs": [],
   "source": [
    "# The Numbers\n",
    "pd.read_csv('../Data/tn.movie_budgets.csv.gz').info()"
   ]
  },
  {
   "cell_type": "markdown",
   "metadata": {},
   "source": [
    "[**Box Office Mojo**](https://www.boxofficemojo.com)\n",
    "\n",
    "'Data/bom.movie_gross.csv.gz' - (3387 rows x 5 columns)\n",
    "\n",
    "- additional info on studio, gross revenue\n"
   ]
  },
  {
   "cell_type": "code",
   "execution_count": null,
   "metadata": {},
   "outputs": [],
   "source": [
    "# Box Office Mojo\n",
    "pd.read_csv('../Data/bom.movie_gross.csv.gz').info()\n"
   ]
  },
  {
   "cell_type": "markdown",
   "metadata": {},
   "source": [
    "[**The Movie DB**](https://www.themoviedb.org)\n",
    "\n",
    "'Data/tmdb.movies.csv.gz' - (26517 rows x 10 cols)\n",
    "\n",
    "- additional info on genre, language, votes/popularity\n"
   ]
  },
  {
   "cell_type": "code",
   "execution_count": null,
   "metadata": {},
   "outputs": [],
   "source": [
    "# The Movie DB\n",
    "pd.read_csv('../Data/tmdb.movies.csv.gz').info()"
   ]
  },
  {
   "cell_type": "markdown",
   "metadata": {},
   "source": [
    "[**Rotten Tomatoes**](https://www.rottentomatoes.com)\n",
    "\n",
    "'Data/rt.movie_info.tsv.gz' - (1560 rows x 12 cols)\n",
    "- synopsis, rating, runtime, etc.\n",
    "\n",
    "\n",
    "'Data/rt.reviews.tsv.gz' - (54432 rows x 8 cols)\n",
    "- additional info on reviews, ratings\n",
    "\n"
   ]
  },
  {
   "cell_type": "code",
   "execution_count": null,
   "metadata": {},
   "outputs": [],
   "source": [
    "# Rotten Tomatoes - movie info\n",
    "pd.read_csv('../Data/rt.movie_info.tsv.gz', sep='\\t' ).info()"
   ]
  },
  {
   "cell_type": "code",
   "execution_count": null,
   "metadata": {},
   "outputs": [],
   "source": [
    "# Rotten Tomatoes - reviews\n",
    "pd.read_csv('../Data/rt.reviews.tsv.gz', sep='\\t', encoding='latin-1').info()"
   ]
  },
  {
   "cell_type": "markdown",
   "metadata": {},
   "source": [
    "### Data Cleaning"
   ]
  },
  {
   "cell_type": "markdown",
   "metadata": {},
   "source": [
    "We focused on the data from imDB and The Numbers"
   ]
  },
  {
   "cell_type": "code",
   "execution_count": null,
   "metadata": {},
   "outputs": [],
   "source": [
    "# imDB - movie_basics\n",
    "# 146,144 entries\n",
    "\n",
    "pd.read_sql(\"SELECT * FROM movie_basics\", conn).info()"
   ]
  },
  {
   "cell_type": "code",
   "execution_count": null,
   "metadata": {},
   "outputs": [],
   "source": [
    "# imDB - movie_ratings\n",
    "# 73,856 entries\n",
    "\n",
    "pd.read_sql(\"SELECT * FROM movie_ratings\", conn).info()"
   ]
  },
  {
   "cell_type": "code",
   "execution_count": null,
   "metadata": {},
   "outputs": [],
   "source": [
    "# imDB - create dataframe combining relevant data from 'movie_basics' and 'movie_ratings' tables\n",
    "\n",
    "# SELECT DISTINCT ?\n",
    "\n",
    "imdb_df = pd.read_sql(\"\"\"\n",
    "SELECT primary_title, original_title, runtime_minutes, genres, start_year, averagerating, numvotes\n",
    "FROM movie_basics \n",
    "JOIN movie_ratings\n",
    "USING (movie_id)\n",
    "\"\"\", conn)\n",
    "\n",
    "imdb_df.info()"
   ]
  },
  {
   "cell_type": "code",
   "execution_count": null,
   "metadata": {},
   "outputs": [],
   "source": [
    "# The Numbers - https://www.the-numbers.com/glossary\n",
    "# 5,782 entries\n",
    "\n",
    "pd.read_csv('../Data/tn.movie_budgets.csv.gz').info()"
   ]
  },
  {
   "cell_type": "code",
   "execution_count": null,
   "metadata": {},
   "outputs": [],
   "source": [
    "# The Numbers - create dataframe\n",
    "roi_df = pd.read_csv('../Data/tn.movie_budgets.csv.gz')\n",
    "\n",
    "# Convert release_date column to datetime\n",
    "roi_df['release_date'] = pd.to_datetime(roi_df['release_date'], errors='coerce')\n",
    "\n",
    "# Convert budget and revenue columns to numeric\n",
    "roi_df['production_budget'] = pd.to_numeric(roi_df['production_budget'].str.replace('[\\$,]', '', regex=True), errors='coerce')\n",
    "roi_df['domestic_gross'] = pd.to_numeric(roi_df['domestic_gross'].str.replace('[\\$,]', '', regex=True), errors='coerce')\n",
    "roi_df['worldwide_gross'] = pd.to_numeric(roi_df['worldwide_gross'].str.replace('[\\$,]', '', regex=True), errors='coerce')\n",
    "\n",
    "# Create column 'ROI' defined as 'worldwide_gross' - 'production_budget'\n",
    "roi_df['ROI'] = roi_df['worldwide_gross'] - roi_df['production_budget']\n",
    "\n",
    "roi_df.info()\n"
   ]
  },
  {
   "cell_type": "code",
   "execution_count": null,
   "metadata": {},
   "outputs": [],
   "source": [
    "# Merge imdb_df and roi_df, drop rows with NA (118 runtime, 8 genre)\n",
    "# 2752 entries\n",
    "\n",
    "movie_df = pd.merge(imdb_df, roi_df, left_on='primary_title', right_on='movie', how='outer')\n",
    "movie_df = movie_df[(movie_df['movie'] == movie_df['primary_title']) | (movie_df['movie'] == movie_df['original_title'])]\n",
    "movie_df = movie_df.dropna()\n",
    "\n",
    "movie_df.info()"
   ]
  },
  {
   "cell_type": "code",
   "execution_count": null,
   "metadata": {},
   "outputs": [],
   "source": [
    "# Break out genres into individual rows\n",
    "# Make this a separate df ?\n",
    "\n",
    "movie_df['genres'] = movie_df['genres'].str.split(',')\n",
    "movie_df = movie_df.explode('genres')\n",
    "movie_df"
   ]
  },
  {
   "cell_type": "markdown",
   "metadata": {},
   "source": [
    "## Data Analysis"
   ]
  },
  {
   "cell_type": "code",
   "execution_count": null,
   "metadata": {},
   "outputs": [],
   "source": [
    "# This counts a movie multiple times if it has more than one genre\n",
    "\n",
    "# Create series of genre counts\n",
    "genre_counts = movie_df['genres'].value_counts()\n",
    "\n",
    "# Create bar chart \n",
    "fig, ax = plt.subplots(figsize=(12, 8))\n",
    "ax.bar(genre_counts.index, genre_counts.values)\n",
    "ax.set_ylabel('Number of Movies')\n",
    "ax.set_title('Count of Movies by Genre')\n",
    "ax.set_xticklabels(genre_counts.index, rotation=45, ha='right')\n",
    "plt.show()"
   ]
  },
  {
   "cell_type": "code",
   "execution_count": null,
   "metadata": {},
   "outputs": [],
   "source": [
    "# Create box plot of runtime\n",
    "\n",
    "plt.figure(figsize=(12, 6))\n",
    "plt.boxplot(movie_df['runtime_minutes'], vert=True)\n",
    "plt.title('Boxplot of Film Runtimes')\n",
    "plt.xlabel('Runtime in Minutes')\n",
    "plt.grid(True)\n",
    "plt.show()"
   ]
  },
  {
   "cell_type": "code",
   "execution_count": null,
   "metadata": {},
   "outputs": [],
   "source": []
  }
 ],
 "metadata": {
  "kernelspec": {
   "display_name": "Python 3",
   "language": "python",
   "name": "python3"
  },
  "language_info": {
   "codemirror_mode": {
    "name": "ipython",
    "version": 3
   },
   "file_extension": ".py",
   "mimetype": "text/x-python",
   "name": "python",
   "nbconvert_exporter": "python",
   "pygments_lexer": "ipython3",
   "version": "3.8.5"
  }
 },
 "nbformat": 4,
 "nbformat_minor": 4
}
